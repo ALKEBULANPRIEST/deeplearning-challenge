{
  "cells": [
    {
      "cell_type": "markdown",
      "metadata": {
        "id": "1CRGkVUOcnvc"
      },
      "source": [
        "## Optimize the Model\n"
      ]
    },
    {
      "cell_type": "code",
      "execution_count": 2,
      "metadata": {
        "colab": {
          "base_uri": "https://localhost:8080/",
          "height": 496
        },
        "id": "BLhcSleWcnvg",
        "outputId": "6fefdd99-02cf-46c7-c520-b3150cdbd172"
      },
      "outputs": [
        {
          "data": {
            "text/html": [
              "<div>\n",
              "<style scoped>\n",
              "    .dataframe tbody tr th:only-of-type {\n",
              "        vertical-align: middle;\n",
              "    }\n",
              "\n",
              "    .dataframe tbody tr th {\n",
              "        vertical-align: top;\n",
              "    }\n",
              "\n",
              "    .dataframe thead th {\n",
              "        text-align: right;\n",
              "    }\n",
              "</style>\n",
              "<table border=\"1\" class=\"dataframe\">\n",
              "  <thead>\n",
              "    <tr style=\"text-align: right;\">\n",
              "      <th></th>\n",
              "      <th>EIN</th>\n",
              "      <th>NAME</th>\n",
              "      <th>APPLICATION_TYPE</th>\n",
              "      <th>AFFILIATION</th>\n",
              "      <th>CLASSIFICATION</th>\n",
              "      <th>USE_CASE</th>\n",
              "      <th>ORGANIZATION</th>\n",
              "      <th>STATUS</th>\n",
              "      <th>INCOME_AMT</th>\n",
              "      <th>SPECIAL_CONSIDERATIONS</th>\n",
              "      <th>ASK_AMT</th>\n",
              "      <th>IS_SUCCESSFUL</th>\n",
              "    </tr>\n",
              "  </thead>\n",
              "  <tbody>\n",
              "    <tr>\n",
              "      <th>0</th>\n",
              "      <td>10520599</td>\n",
              "      <td>BLUE KNIGHTS MOTORCYCLE CLUB</td>\n",
              "      <td>T10</td>\n",
              "      <td>Independent</td>\n",
              "      <td>C1000</td>\n",
              "      <td>ProductDev</td>\n",
              "      <td>Association</td>\n",
              "      <td>1</td>\n",
              "      <td>0</td>\n",
              "      <td>N</td>\n",
              "      <td>5000</td>\n",
              "      <td>1</td>\n",
              "    </tr>\n",
              "    <tr>\n",
              "      <th>1</th>\n",
              "      <td>10531628</td>\n",
              "      <td>AMERICAN CHESAPEAKE CLUB CHARITABLE TR</td>\n",
              "      <td>T3</td>\n",
              "      <td>Independent</td>\n",
              "      <td>C2000</td>\n",
              "      <td>Preservation</td>\n",
              "      <td>Co-operative</td>\n",
              "      <td>1</td>\n",
              "      <td>1-9999</td>\n",
              "      <td>N</td>\n",
              "      <td>108590</td>\n",
              "      <td>1</td>\n",
              "    </tr>\n",
              "    <tr>\n",
              "      <th>2</th>\n",
              "      <td>10547893</td>\n",
              "      <td>ST CLOUD PROFESSIONAL FIREFIGHTERS</td>\n",
              "      <td>T5</td>\n",
              "      <td>CompanySponsored</td>\n",
              "      <td>C3000</td>\n",
              "      <td>ProductDev</td>\n",
              "      <td>Association</td>\n",
              "      <td>1</td>\n",
              "      <td>0</td>\n",
              "      <td>N</td>\n",
              "      <td>5000</td>\n",
              "      <td>0</td>\n",
              "    </tr>\n",
              "    <tr>\n",
              "      <th>3</th>\n",
              "      <td>10553066</td>\n",
              "      <td>SOUTHSIDE ATHLETIC ASSOCIATION</td>\n",
              "      <td>T3</td>\n",
              "      <td>CompanySponsored</td>\n",
              "      <td>C2000</td>\n",
              "      <td>Preservation</td>\n",
              "      <td>Trust</td>\n",
              "      <td>1</td>\n",
              "      <td>10000-24999</td>\n",
              "      <td>N</td>\n",
              "      <td>6692</td>\n",
              "      <td>1</td>\n",
              "    </tr>\n",
              "    <tr>\n",
              "      <th>4</th>\n",
              "      <td>10556103</td>\n",
              "      <td>GENETIC RESEARCH INSTITUTE OF THE DESERT</td>\n",
              "      <td>T3</td>\n",
              "      <td>Independent</td>\n",
              "      <td>C1000</td>\n",
              "      <td>Heathcare</td>\n",
              "      <td>Trust</td>\n",
              "      <td>1</td>\n",
              "      <td>100000-499999</td>\n",
              "      <td>N</td>\n",
              "      <td>142590</td>\n",
              "      <td>1</td>\n",
              "    </tr>\n",
              "  </tbody>\n",
              "</table>\n",
              "</div>"
            ],
            "text/plain": [
              "        EIN                                      NAME APPLICATION_TYPE  \\\n",
              "0  10520599              BLUE KNIGHTS MOTORCYCLE CLUB              T10   \n",
              "1  10531628    AMERICAN CHESAPEAKE CLUB CHARITABLE TR               T3   \n",
              "2  10547893        ST CLOUD PROFESSIONAL FIREFIGHTERS               T5   \n",
              "3  10553066            SOUTHSIDE ATHLETIC ASSOCIATION               T3   \n",
              "4  10556103  GENETIC RESEARCH INSTITUTE OF THE DESERT               T3   \n",
              "\n",
              "        AFFILIATION CLASSIFICATION      USE_CASE  ORGANIZATION  STATUS  \\\n",
              "0       Independent          C1000    ProductDev   Association       1   \n",
              "1       Independent          C2000  Preservation  Co-operative       1   \n",
              "2  CompanySponsored          C3000    ProductDev   Association       1   \n",
              "3  CompanySponsored          C2000  Preservation         Trust       1   \n",
              "4       Independent          C1000     Heathcare         Trust       1   \n",
              "\n",
              "      INCOME_AMT SPECIAL_CONSIDERATIONS  ASK_AMT  IS_SUCCESSFUL  \n",
              "0              0                      N     5000              1  \n",
              "1         1-9999                      N   108590              1  \n",
              "2              0                      N     5000              0  \n",
              "3    10000-24999                      N     6692              1  \n",
              "4  100000-499999                      N   142590              1  "
            ]
          },
          "execution_count": 2,
          "metadata": {},
          "output_type": "execute_result"
        }
      ],
      "source": [
        "# Import our dependencies\n",
        "from sklearn.model_selection import train_test_split\n",
        "from sklearn.preprocessing import StandardScaler\n",
        "from sklearn.metrics import accuracy_score\n",
        "from sklearn.ensemble import RandomForestClassifier\n",
        "import pandas as pd\n",
        "import tensorflow as tf\n",
        "\n",
        "\n",
        "#  Import and read the charity_data.csv.\n",
        "application_df = pd.read_csv(\"https://static.bc-edx.com/data/dl-1-2/m21/lms/starter/charity_data.csv\")\n",
        "application_df.head()"
      ]
    },
    {
      "cell_type": "code",
      "execution_count": 3,
      "metadata": {
        "colab": {
          "base_uri": "https://localhost:8080/",
          "height": 297
        },
        "id": "4ZvOdqJvejyI",
        "outputId": "d87e043b-f919-42a5-8849-2e097337887b"
      },
      "outputs": [
        {
          "data": {
            "text/html": [
              "<div>\n",
              "<style scoped>\n",
              "    .dataframe tbody tr th:only-of-type {\n",
              "        vertical-align: middle;\n",
              "    }\n",
              "\n",
              "    .dataframe tbody tr th {\n",
              "        vertical-align: top;\n",
              "    }\n",
              "\n",
              "    .dataframe thead th {\n",
              "        text-align: right;\n",
              "    }\n",
              "</style>\n",
              "<table border=\"1\" class=\"dataframe\">\n",
              "  <thead>\n",
              "    <tr style=\"text-align: right;\">\n",
              "      <th></th>\n",
              "      <th>NAME</th>\n",
              "      <th>APPLICATION_TYPE</th>\n",
              "      <th>AFFILIATION</th>\n",
              "      <th>CLASSIFICATION</th>\n",
              "      <th>USE_CASE</th>\n",
              "      <th>ORGANIZATION</th>\n",
              "      <th>STATUS</th>\n",
              "      <th>INCOME_AMT</th>\n",
              "      <th>SPECIAL_CONSIDERATIONS</th>\n",
              "      <th>ASK_AMT</th>\n",
              "      <th>IS_SUCCESSFUL</th>\n",
              "    </tr>\n",
              "  </thead>\n",
              "  <tbody>\n",
              "    <tr>\n",
              "      <th>0</th>\n",
              "      <td>BLUE KNIGHTS MOTORCYCLE CLUB</td>\n",
              "      <td>T10</td>\n",
              "      <td>Independent</td>\n",
              "      <td>C1000</td>\n",
              "      <td>ProductDev</td>\n",
              "      <td>Association</td>\n",
              "      <td>1</td>\n",
              "      <td>0</td>\n",
              "      <td>N</td>\n",
              "      <td>5000</td>\n",
              "      <td>1</td>\n",
              "    </tr>\n",
              "    <tr>\n",
              "      <th>1</th>\n",
              "      <td>AMERICAN CHESAPEAKE CLUB CHARITABLE TR</td>\n",
              "      <td>T3</td>\n",
              "      <td>Independent</td>\n",
              "      <td>C2000</td>\n",
              "      <td>Preservation</td>\n",
              "      <td>Co-operative</td>\n",
              "      <td>1</td>\n",
              "      <td>1-9999</td>\n",
              "      <td>N</td>\n",
              "      <td>108590</td>\n",
              "      <td>1</td>\n",
              "    </tr>\n",
              "  </tbody>\n",
              "</table>\n",
              "</div>"
            ],
            "text/plain": [
              "                                     NAME APPLICATION_TYPE  AFFILIATION  \\\n",
              "0            BLUE KNIGHTS MOTORCYCLE CLUB              T10  Independent   \n",
              "1  AMERICAN CHESAPEAKE CLUB CHARITABLE TR               T3  Independent   \n",
              "\n",
              "  CLASSIFICATION      USE_CASE  ORGANIZATION  STATUS INCOME_AMT  \\\n",
              "0          C1000    ProductDev   Association       1          0   \n",
              "1          C2000  Preservation  Co-operative       1     1-9999   \n",
              "\n",
              "  SPECIAL_CONSIDERATIONS  ASK_AMT  IS_SUCCESSFUL  \n",
              "0                      N     5000              1  \n",
              "1                      N   108590              1  "
            ]
          },
          "execution_count": 3,
          "metadata": {},
          "output_type": "execute_result"
        }
      ],
      "source": [
        "# Drop the non-beneficial EIN column\n",
        "app_df_clean = application_df.drop(columns=['EIN'])\n",
        "app_df_clean.head(2)"
      ]
    },
    {
      "cell_type": "code",
      "execution_count": 4,
      "metadata": {
        "colab": {
          "base_uri": "https://localhost:8080/"
        },
        "id": "dLnmFB8deuH2",
        "outputId": "5db1d772-0b5d-4d69-f1e2-c5977e625892"
      },
      "outputs": [
        {
          "data": {
            "text/plain": [
              "NAME                      19568\n",
              "APPLICATION_TYPE             17\n",
              "AFFILIATION                   6\n",
              "CLASSIFICATION               71\n",
              "USE_CASE                      5\n",
              "ORGANIZATION                  4\n",
              "STATUS                        2\n",
              "INCOME_AMT                    9\n",
              "SPECIAL_CONSIDERATIONS        2\n",
              "ASK_AMT                    8747\n",
              "IS_SUCCESSFUL                 2\n",
              "dtype: int64"
            ]
          },
          "execution_count": 4,
          "metadata": {},
          "output_type": "execute_result"
        }
      ],
      "source": [
        "# display the number of unique values\n",
        "app_df_clean.nunique()"
      ]
    },
    {
      "cell_type": "code",
      "execution_count": 5,
      "metadata": {
        "colab": {
          "base_uri": "https://localhost:8080/"
        },
        "id": "yz_K5xgcibV3",
        "outputId": "4d5fbe52-80c1-4f1d-be85-3b2cb065eb08"
      },
      "outputs": [
        {
          "data": {
            "text/plain": [
              "1    34294\n",
              "0        5\n",
              "Name: STATUS, dtype: int64"
            ]
          },
          "execution_count": 5,
          "metadata": {},
          "output_type": "execute_result"
        }
      ],
      "source": [
        "# Can we drop the STATUS column?\n",
        "app_df_clean['STATUS'].value_counts()"
      ]
    },
    {
      "cell_type": "code",
      "execution_count": 6,
      "metadata": {
        "colab": {
          "base_uri": "https://localhost:8080/"
        },
        "id": "jnpauOCpi2J_",
        "outputId": "49f249f1-75ca-4573-b359-55181616aeef"
      },
      "outputs": [
        {
          "data": {
            "text/plain": [
              "N    34272\n",
              "Y       27\n",
              "Name: SPECIAL_CONSIDERATIONS, dtype: int64"
            ]
          },
          "execution_count": 6,
          "metadata": {},
          "output_type": "execute_result"
        }
      ],
      "source": [
        "# can we drop the SPECIAL_CONSIDERATIONS column?\n",
        "app_df_clean['SPECIAL_CONSIDERATIONS'].value_counts()"
      ]
    },
    {
      "cell_type": "code",
      "execution_count": 7,
      "metadata": {
        "colab": {
          "base_uri": "https://localhost:8080/",
          "height": 297
        },
        "id": "aXAXgcMCjHFa",
        "outputId": "71738d9f-0167-45e9-9d37-526f64969070"
      },
      "outputs": [
        {
          "data": {
            "text/html": [
              "<div>\n",
              "<style scoped>\n",
              "    .dataframe tbody tr th:only-of-type {\n",
              "        vertical-align: middle;\n",
              "    }\n",
              "\n",
              "    .dataframe tbody tr th {\n",
              "        vertical-align: top;\n",
              "    }\n",
              "\n",
              "    .dataframe thead th {\n",
              "        text-align: right;\n",
              "    }\n",
              "</style>\n",
              "<table border=\"1\" class=\"dataframe\">\n",
              "  <thead>\n",
              "    <tr style=\"text-align: right;\">\n",
              "      <th></th>\n",
              "      <th>NAME</th>\n",
              "      <th>APPLICATION_TYPE</th>\n",
              "      <th>AFFILIATION</th>\n",
              "      <th>CLASSIFICATION</th>\n",
              "      <th>USE_CASE</th>\n",
              "      <th>ORGANIZATION</th>\n",
              "      <th>INCOME_AMT</th>\n",
              "      <th>ASK_AMT</th>\n",
              "      <th>IS_SUCCESSFUL</th>\n",
              "    </tr>\n",
              "  </thead>\n",
              "  <tbody>\n",
              "    <tr>\n",
              "      <th>0</th>\n",
              "      <td>BLUE KNIGHTS MOTORCYCLE CLUB</td>\n",
              "      <td>T10</td>\n",
              "      <td>Independent</td>\n",
              "      <td>C1000</td>\n",
              "      <td>ProductDev</td>\n",
              "      <td>Association</td>\n",
              "      <td>0</td>\n",
              "      <td>5000</td>\n",
              "      <td>1</td>\n",
              "    </tr>\n",
              "    <tr>\n",
              "      <th>1</th>\n",
              "      <td>AMERICAN CHESAPEAKE CLUB CHARITABLE TR</td>\n",
              "      <td>T3</td>\n",
              "      <td>Independent</td>\n",
              "      <td>C2000</td>\n",
              "      <td>Preservation</td>\n",
              "      <td>Co-operative</td>\n",
              "      <td>1-9999</td>\n",
              "      <td>108590</td>\n",
              "      <td>1</td>\n",
              "    </tr>\n",
              "  </tbody>\n",
              "</table>\n",
              "</div>"
            ],
            "text/plain": [
              "                                     NAME APPLICATION_TYPE  AFFILIATION  \\\n",
              "0            BLUE KNIGHTS MOTORCYCLE CLUB              T10  Independent   \n",
              "1  AMERICAN CHESAPEAKE CLUB CHARITABLE TR               T3  Independent   \n",
              "\n",
              "  CLASSIFICATION      USE_CASE  ORGANIZATION INCOME_AMT  ASK_AMT  \\\n",
              "0          C1000    ProductDev   Association          0     5000   \n",
              "1          C2000  Preservation  Co-operative     1-9999   108590   \n",
              "\n",
              "   IS_SUCCESSFUL  \n",
              "0              1  \n",
              "1              1  "
            ]
          },
          "execution_count": 7,
          "metadata": {},
          "output_type": "execute_result"
        }
      ],
      "source": [
        "# since there isn't much variation in the STATUS and SPECIAL_CONSIDERATIONS\n",
        "# columns, they aren't important for our purposes\n",
        "app_df_clean = app_df_clean.drop(columns=['STATUS', 'SPECIAL_CONSIDERATIONS'])\n",
        "app_df_clean.head(2)"
      ]
    },
    {
      "cell_type": "code",
      "execution_count": 8,
      "metadata": {
        "colab": {
          "base_uri": "https://localhost:8080/"
        },
        "id": "wSVFXH7WezZF",
        "outputId": "32c79423-8d4b-4795-8eda-29146fc04211"
      },
      "outputs": [
        {
          "data": {
            "text/plain": [
              "PARENT BOOSTER USA INC                                                  1260\n",
              "TOPS CLUB INC                                                            765\n",
              "UNITED STATES BOWLING CONGRESS INC                                       700\n",
              "WASHINGTON STATE UNIVERSITY                                              492\n",
              "AMATEUR ATHLETIC UNION OF THE UNITED STATES INC                          408\n",
              "                                                                        ... \n",
              "ST LOUIS SLAM WOMENS FOOTBALL                                              1\n",
              "AIESEC ALUMNI IBEROAMERICA CORP                                            1\n",
              "WEALLBLEEDRED ORG INC                                                      1\n",
              "AMERICAN SOCIETY FOR STANDARDS IN MEDIUMSHIP & PSYCHICAL INVESTIGATI       1\n",
              "WATERHOUSE CHARITABLE TR                                                   1\n",
              "Name: NAME, Length: 19568, dtype: int64"
            ]
          },
          "execution_count": 8,
          "metadata": {},
          "output_type": "execute_result"
        }
      ],
      "source": [
        "# Look at NAME value counts for binning\n",
        "name_counts = app_df_clean['NAME'].value_counts()\n",
        "name_counts"
      ]
    },
    {
      "cell_type": "code",
      "execution_count": 9,
      "metadata": {
        "colab": {
          "base_uri": "https://localhost:8080/"
        },
        "id": "g_e7tA3dhMq7",
        "outputId": "6d5331a2-e95a-4d7e-f021-ae086bb9553d"
      },
      "outputs": [
        {
          "data": {
            "text/plain": [
              "PARENT BOOSTER USA INC                             1260\n",
              "TOPS CLUB INC                                       765\n",
              "UNITED STATES BOWLING CONGRESS INC                  700\n",
              "WASHINGTON STATE UNIVERSITY                         492\n",
              "AMATEUR ATHLETIC UNION OF THE UNITED STATES INC     408\n",
              "                                                   ... \n",
              "OLD OAK CLIFF CONSERVATION LEAGUE INC                 6\n",
              "AMERICAN NEPHROLOGY NURSES ASSOCIATION                6\n",
              "HUMBLE ISD EDUCATIONAL SUPPORT GROUPS INC             6\n",
              "PROFESSIONAL LOADMASTER ASSOCIATION                   6\n",
              "CBMC INC                                              6\n",
              "Name: NAME, Length: 354, dtype: int64"
            ]
          },
          "execution_count": 9,
          "metadata": {},
          "output_type": "execute_result"
        }
      ],
      "source": [
        "name_counts[name_counts > 5]"
      ]
    },
    {
      "cell_type": "code",
      "execution_count": 10,
      "metadata": {
        "colab": {
          "base_uri": "https://localhost:8080/"
        },
        "id": "VIFtUiRTe3iG",
        "outputId": "8acb4567-fa37-4beb-ffc3-fe99bc28c509"
      },
      "outputs": [
        {
          "data": {
            "text/plain": [
              "Other                                           20043\n",
              "PARENT BOOSTER USA INC                           1260\n",
              "TOPS CLUB INC                                     765\n",
              "UNITED STATES BOWLING CONGRESS INC                700\n",
              "WASHINGTON STATE UNIVERSITY                       492\n",
              "                                                ...  \n",
              "HABITAT FOR HUMANITY INTERNATIONAL                  6\n",
              "DAMAGE PREVENTION COUNCIL OF TEXAS                  6\n",
              "FLEET RESERVE ASSOCIATION                           6\n",
              "HUGH OBRIAN YOUTH LEADERSHIP                        6\n",
              "INTERNATIONAL CONGRESS OF CHURCHES MINISTERS        6\n",
              "Name: NAME, Length: 355, dtype: int64"
            ]
          },
          "execution_count": 10,
          "metadata": {},
          "output_type": "execute_result"
        }
      ],
      "source": [
        "# Determine which values to replace if counts are less than or equal to 5.\n",
        "names_to_replace = list(name_counts[name_counts <= 5].index)\n",
        "\n",
        "# Replace in dataframe\n",
        "for name in names_to_replace:\n",
        "  app_df_clean['NAME'] = app_df_clean['NAME'].replace(name, 'Other')\n",
        "    \n",
        "# Check to make sure binning was successful\n",
        "app_df_clean['NAME'].value_counts()"
      ]
    },
    {
      "cell_type": "code",
      "execution_count": 11,
      "metadata": {
        "colab": {
          "base_uri": "https://localhost:8080/"
        },
        "id": "pefev_j-e7vN",
        "outputId": "9d5138d8-a509-445d-c1b3-da7560ab0075"
      },
      "outputs": [
        {
          "data": {
            "text/plain": [
              "T3     27037\n",
              "T4      1542\n",
              "T6      1216\n",
              "T5      1173\n",
              "T19     1065\n",
              "T8       737\n",
              "T7       725\n",
              "T10      528\n",
              "T9       156\n",
              "T13       66\n",
              "T12       27\n",
              "T2        16\n",
              "T25        3\n",
              "T14        3\n",
              "T29        2\n",
              "T15        2\n",
              "T17        1\n",
              "Name: APPLICATION_TYPE, dtype: int64"
            ]
          },
          "execution_count": 11,
          "metadata": {},
          "output_type": "execute_result"
        }
      ],
      "source": [
        "# Look at APPLICATION_TYPE value counts for binning\n",
        "app_type_counts = app_df_clean['APPLICATION_TYPE'].value_counts()\n",
        "app_type_counts"
      ]
    },
    {
      "cell_type": "code",
      "execution_count": 12,
      "metadata": {
        "colab": {
          "base_uri": "https://localhost:8080/"
        },
        "id": "qn1wg4bDfArL",
        "outputId": "efe43fa5-cff7-4113-d544-82e88585f69f"
      },
      "outputs": [
        {
          "data": {
            "text/plain": [
              "T3       27037\n",
              "T4        1542\n",
              "T6        1216\n",
              "T5        1173\n",
              "T19       1065\n",
              "T8         737\n",
              "T7         725\n",
              "T10        528\n",
              "Other      276\n",
              "Name: APPLICATION_TYPE, dtype: int64"
            ]
          },
          "execution_count": 12,
          "metadata": {},
          "output_type": "execute_result"
        }
      ],
      "source": [
        "# Determine which values to replace if application counts are less than 500\n",
        "app_types_to_replace = list(app_type_counts[app_type_counts < 500].index)\n",
        "\n",
        "# Replace in dataframe\n",
        "for app_type in app_types_to_replace:\n",
        "  app_df_clean['APPLICATION_TYPE'] = app_df_clean['APPLICATION_TYPE'].replace(\n",
        "      app_type, 'Other'\n",
        "  )\n",
        "\n",
        "# Check to make sure binning was successful\n",
        "app_df_clean['APPLICATION_TYPE'].value_counts()"
      ]
    },
    {
      "cell_type": "code",
      "execution_count": 13,
      "metadata": {
        "colab": {
          "base_uri": "https://localhost:8080/"
        },
        "id": "w39XpIpcfi1l",
        "outputId": "b91a3386-8f23-4a09-e8fe-ad769b41b52d"
      },
      "outputs": [
        {
          "data": {
            "text/plain": [
              "C1000    17326\n",
              "C2000     6074\n",
              "C1200     4837\n",
              "C3000     1918\n",
              "C2100     1883\n",
              "         ...  \n",
              "C4120        1\n",
              "C8210        1\n",
              "C2561        1\n",
              "C4500        1\n",
              "C2150        1\n",
              "Name: CLASSIFICATION, Length: 71, dtype: int64"
            ]
          },
          "execution_count": 13,
          "metadata": {},
          "output_type": "execute_result"
        }
      ],
      "source": [
        "# Look at CLASSIFICATION value counts for binning\n",
        "# Look at CLASSIFICATION value counts for binning\n",
        "class_counts = app_df_clean['CLASSIFICATION'].value_counts()\n",
        "class_counts"
      ]
    },
    {
      "cell_type": "code",
      "execution_count": 14,
      "metadata": {
        "colab": {
          "base_uri": "https://localhost:8080/"
        },
        "id": "nvrGKKqZfuQF",
        "outputId": "08095f4a-f41c-437a-93e6-625e75c9b347"
      },
      "outputs": [
        {
          "data": {
            "text/plain": [
              "C1000    17326\n",
              "C2000     6074\n",
              "C1200     4837\n",
              "Other     2261\n",
              "C3000     1918\n",
              "C2100     1883\n",
              "Name: CLASSIFICATION, dtype: int64"
            ]
          },
          "execution_count": 14,
          "metadata": {},
          "output_type": "execute_result"
        }
      ],
      "source": [
        "# Determine which values to replace if counts are less than 1000\n",
        "classifications_to_replace = list(class_counts[class_counts < 1000].index)\n",
        "\n",
        "# Replace in dataframe\n",
        "for cls in classifications_to_replace:\n",
        "    app_df_clean['CLASSIFICATION'] = app_df_clean['CLASSIFICATION'].replace(cls,\"Other\")\n",
        "    \n",
        "# Check to make sure binning was successful\n",
        "app_df_clean['CLASSIFICATION'].value_counts()"
      ]
    },
    {
      "cell_type": "code",
      "execution_count": 15,
      "metadata": {
        "colab": {
          "base_uri": "https://localhost:8080/"
        },
        "id": "yJ29pfUvgDDG",
        "outputId": "746d384c-8a3a-4934-b442-362226fa929d"
      },
      "outputs": [
        {
          "data": {
            "text/plain": [
              "['NAME',\n",
              " 'APPLICATION_TYPE',\n",
              " 'AFFILIATION',\n",
              " 'CLASSIFICATION',\n",
              " 'USE_CASE',\n",
              " 'ORGANIZATION',\n",
              " 'INCOME_AMT']"
            ]
          },
          "execution_count": 15,
          "metadata": {},
          "output_type": "execute_result"
        }
      ],
      "source": [
        "# Generate our categorical variable lists\n",
        "cat_vars = list(app_df_clean.dtypes[app_df_clean.dtypes == 'object'].index)\n",
        "cat_vars"
      ]
    },
    {
      "cell_type": "code",
      "execution_count": 16,
      "metadata": {
        "colab": {
          "base_uri": "https://localhost:8080/",
          "height": 386
        },
        "id": "wbGzUOEAgFcd",
        "outputId": "736aab9f-9f77-4aa4-ca9f-f671dbbe1e6a"
      },
      "outputs": [
        {
          "data": {
            "text/html": [
              "<div>\n",
              "<style scoped>\n",
              "    .dataframe tbody tr th:only-of-type {\n",
              "        vertical-align: middle;\n",
              "    }\n",
              "\n",
              "    .dataframe tbody tr th {\n",
              "        vertical-align: top;\n",
              "    }\n",
              "\n",
              "    .dataframe thead th {\n",
              "        text-align: right;\n",
              "    }\n",
              "</style>\n",
              "<table border=\"1\" class=\"dataframe\">\n",
              "  <thead>\n",
              "    <tr style=\"text-align: right;\">\n",
              "      <th></th>\n",
              "      <th>ASK_AMT</th>\n",
              "      <th>IS_SUCCESSFUL</th>\n",
              "      <th>NAME_AACE INTERNATIONAL</th>\n",
              "      <th>NAME_ACE MENTOR PROGRAM OF AMERICA INC</th>\n",
              "      <th>NAME_AFRICAN-AMERICAN POSTAL LEAGUE UNITED FOR SUCCESS A-PLUS</th>\n",
              "      <th>NAME_AIR FORCE ASSOCIATION</th>\n",
              "      <th>NAME_ALABAMA FEDERATION OF WOMENS CLUBS</th>\n",
              "      <th>NAME_ALABAMA TREASURE FOREST ASSOCIATION</th>\n",
              "      <th>NAME_ALBANY STATE UNIVERSITY NATIONAL ALUMNI ASSOCIATION</th>\n",
              "      <th>NAME_ALPHA PHI OMEGA</th>\n",
              "      <th>...</th>\n",
              "      <th>ORGANIZATION_Trust</th>\n",
              "      <th>INCOME_AMT_0</th>\n",
              "      <th>INCOME_AMT_1-9999</th>\n",
              "      <th>INCOME_AMT_10000-24999</th>\n",
              "      <th>INCOME_AMT_100000-499999</th>\n",
              "      <th>INCOME_AMT_10M-50M</th>\n",
              "      <th>INCOME_AMT_1M-5M</th>\n",
              "      <th>INCOME_AMT_25000-99999</th>\n",
              "      <th>INCOME_AMT_50M+</th>\n",
              "      <th>INCOME_AMT_5M-10M</th>\n",
              "    </tr>\n",
              "  </thead>\n",
              "  <tbody>\n",
              "    <tr>\n",
              "      <th>0</th>\n",
              "      <td>5000</td>\n",
              "      <td>1</td>\n",
              "      <td>0</td>\n",
              "      <td>0</td>\n",
              "      <td>0</td>\n",
              "      <td>0</td>\n",
              "      <td>0</td>\n",
              "      <td>0</td>\n",
              "      <td>0</td>\n",
              "      <td>0</td>\n",
              "      <td>...</td>\n",
              "      <td>0</td>\n",
              "      <td>1</td>\n",
              "      <td>0</td>\n",
              "      <td>0</td>\n",
              "      <td>0</td>\n",
              "      <td>0</td>\n",
              "      <td>0</td>\n",
              "      <td>0</td>\n",
              "      <td>0</td>\n",
              "      <td>0</td>\n",
              "    </tr>\n",
              "    <tr>\n",
              "      <th>1</th>\n",
              "      <td>108590</td>\n",
              "      <td>1</td>\n",
              "      <td>0</td>\n",
              "      <td>0</td>\n",
              "      <td>0</td>\n",
              "      <td>0</td>\n",
              "      <td>0</td>\n",
              "      <td>0</td>\n",
              "      <td>0</td>\n",
              "      <td>0</td>\n",
              "      <td>...</td>\n",
              "      <td>0</td>\n",
              "      <td>0</td>\n",
              "      <td>1</td>\n",
              "      <td>0</td>\n",
              "      <td>0</td>\n",
              "      <td>0</td>\n",
              "      <td>0</td>\n",
              "      <td>0</td>\n",
              "      <td>0</td>\n",
              "      <td>0</td>\n",
              "    </tr>\n",
              "    <tr>\n",
              "      <th>2</th>\n",
              "      <td>5000</td>\n",
              "      <td>0</td>\n",
              "      <td>0</td>\n",
              "      <td>0</td>\n",
              "      <td>0</td>\n",
              "      <td>0</td>\n",
              "      <td>0</td>\n",
              "      <td>0</td>\n",
              "      <td>0</td>\n",
              "      <td>0</td>\n",
              "      <td>...</td>\n",
              "      <td>0</td>\n",
              "      <td>1</td>\n",
              "      <td>0</td>\n",
              "      <td>0</td>\n",
              "      <td>0</td>\n",
              "      <td>0</td>\n",
              "      <td>0</td>\n",
              "      <td>0</td>\n",
              "      <td>0</td>\n",
              "      <td>0</td>\n",
              "    </tr>\n",
              "    <tr>\n",
              "      <th>3</th>\n",
              "      <td>6692</td>\n",
              "      <td>1</td>\n",
              "      <td>0</td>\n",
              "      <td>0</td>\n",
              "      <td>0</td>\n",
              "      <td>0</td>\n",
              "      <td>0</td>\n",
              "      <td>0</td>\n",
              "      <td>0</td>\n",
              "      <td>0</td>\n",
              "      <td>...</td>\n",
              "      <td>1</td>\n",
              "      <td>0</td>\n",
              "      <td>0</td>\n",
              "      <td>1</td>\n",
              "      <td>0</td>\n",
              "      <td>0</td>\n",
              "      <td>0</td>\n",
              "      <td>0</td>\n",
              "      <td>0</td>\n",
              "      <td>0</td>\n",
              "    </tr>\n",
              "    <tr>\n",
              "      <th>4</th>\n",
              "      <td>142590</td>\n",
              "      <td>1</td>\n",
              "      <td>0</td>\n",
              "      <td>0</td>\n",
              "      <td>0</td>\n",
              "      <td>0</td>\n",
              "      <td>0</td>\n",
              "      <td>0</td>\n",
              "      <td>0</td>\n",
              "      <td>0</td>\n",
              "      <td>...</td>\n",
              "      <td>1</td>\n",
              "      <td>0</td>\n",
              "      <td>0</td>\n",
              "      <td>0</td>\n",
              "      <td>1</td>\n",
              "      <td>0</td>\n",
              "      <td>0</td>\n",
              "      <td>0</td>\n",
              "      <td>0</td>\n",
              "      <td>0</td>\n",
              "    </tr>\n",
              "  </tbody>\n",
              "</table>\n",
              "<p>5 rows × 396 columns</p>\n",
              "</div>"
            ],
            "text/plain": [
              "   ASK_AMT  IS_SUCCESSFUL  NAME_AACE INTERNATIONAL  \\\n",
              "0     5000              1                        0   \n",
              "1   108590              1                        0   \n",
              "2     5000              0                        0   \n",
              "3     6692              1                        0   \n",
              "4   142590              1                        0   \n",
              "\n",
              "   NAME_ACE MENTOR PROGRAM OF AMERICA INC  \\\n",
              "0                                       0   \n",
              "1                                       0   \n",
              "2                                       0   \n",
              "3                                       0   \n",
              "4                                       0   \n",
              "\n",
              "   NAME_AFRICAN-AMERICAN POSTAL LEAGUE UNITED FOR SUCCESS A-PLUS  \\\n",
              "0                                                  0               \n",
              "1                                                  0               \n",
              "2                                                  0               \n",
              "3                                                  0               \n",
              "4                                                  0               \n",
              "\n",
              "   NAME_AIR FORCE ASSOCIATION  NAME_ALABAMA FEDERATION OF WOMENS CLUBS  \\\n",
              "0                           0                                        0   \n",
              "1                           0                                        0   \n",
              "2                           0                                        0   \n",
              "3                           0                                        0   \n",
              "4                           0                                        0   \n",
              "\n",
              "   NAME_ALABAMA TREASURE FOREST ASSOCIATION  \\\n",
              "0                                         0   \n",
              "1                                         0   \n",
              "2                                         0   \n",
              "3                                         0   \n",
              "4                                         0   \n",
              "\n",
              "   NAME_ALBANY STATE UNIVERSITY NATIONAL ALUMNI ASSOCIATION  \\\n",
              "0                                                  0          \n",
              "1                                                  0          \n",
              "2                                                  0          \n",
              "3                                                  0          \n",
              "4                                                  0          \n",
              "\n",
              "   NAME_ALPHA PHI OMEGA  ...  ORGANIZATION_Trust  INCOME_AMT_0  \\\n",
              "0                     0  ...                   0             1   \n",
              "1                     0  ...                   0             0   \n",
              "2                     0  ...                   0             1   \n",
              "3                     0  ...                   1             0   \n",
              "4                     0  ...                   1             0   \n",
              "\n",
              "   INCOME_AMT_1-9999  INCOME_AMT_10000-24999  INCOME_AMT_100000-499999  \\\n",
              "0                  0                       0                         0   \n",
              "1                  1                       0                         0   \n",
              "2                  0                       0                         0   \n",
              "3                  0                       1                         0   \n",
              "4                  0                       0                         1   \n",
              "\n",
              "   INCOME_AMT_10M-50M  INCOME_AMT_1M-5M  INCOME_AMT_25000-99999  \\\n",
              "0                   0                 0                       0   \n",
              "1                   0                 0                       0   \n",
              "2                   0                 0                       0   \n",
              "3                   0                 0                       0   \n",
              "4                   0                 0                       0   \n",
              "\n",
              "   INCOME_AMT_50M+  INCOME_AMT_5M-10M  \n",
              "0                0                  0  \n",
              "1                0                  0  \n",
              "2                0                  0  \n",
              "3                0                  0  \n",
              "4                0                  0  \n",
              "\n",
              "[5 rows x 396 columns]"
            ]
          },
          "execution_count": 16,
          "metadata": {},
          "output_type": "execute_result"
        }
      ],
      "source": [
        "# perform one-hot encoding on the data\n",
        "app_df_clean = pd.get_dummies(app_df_clean)\n",
        "app_df_clean.head()"
      ]
    },
    {
      "cell_type": "code",
      "execution_count": 17,
      "metadata": {
        "id": "4annACb6gV0W"
      },
      "outputs": [],
      "source": [
        "# Split our preprocessed data into our features and target arrays\n",
        "x = app_df_clean.drop(columns=['IS_SUCCESSFUL']).values\n",
        "y = app_df_clean['IS_SUCCESSFUL'].values\n",
        "\n",
        "# Split the preprocessed data into a training and testing dataset\n",
        "x_train, x_test, y_train, y_test = train_test_split(x, y)"
      ]
    },
    {
      "cell_type": "code",
      "execution_count": 18,
      "metadata": {
        "id": "I1yFkAKygfT9"
      },
      "outputs": [],
      "source": [
        "# Create a StandardScaler instances\n",
        "scaler = StandardScaler()\n",
        "\n",
        "# Fit the StandardScaler\n",
        "x_scaler = scaler.fit(x_train)\n",
        "\n",
        "# Scale the data\n",
        "x_train_scaled = x_scaler.transform(x_train)\n",
        "x_test_scaled = x_scaler.transform(x_test)"
      ]
    },
    {
      "cell_type": "code",
      "execution_count": 19,
      "metadata": {
        "colab": {
          "base_uri": "https://localhost:8080/"
        },
        "id": "03MKKSa0hIvW",
        "outputId": "6a08cc8e-996d-495d-96ef-56d48e597ae2"
      },
      "outputs": [
        {
          "name": "stdout",
          "output_type": "stream",
          "text": [
            "Model: \"sequential\"\n",
            "_________________________________________________________________\n",
            " Layer (type)                Output Shape              Param #   \n",
            "=================================================================\n",
            " dense (Dense)               (None, 100)               39600     \n",
            "                                                                 \n",
            " dense_1 (Dense)             (None, 30)                3030      \n",
            "                                                                 \n",
            " dense_2 (Dense)             (None, 10)                310       \n",
            "                                                                 \n",
            " dense_3 (Dense)             (None, 1)                 11        \n",
            "                                                                 \n",
            "=================================================================\n",
            "Total params: 42951 (167.78 KB)\n",
            "Trainable params: 42951 (167.78 KB)\n",
            "Non-trainable params: 0 (0.00 Byte)\n",
            "_________________________________________________________________\n"
          ]
        }
      ],
      "source": [
        "# Define the model - deep neural net\n",
        "number_input_features = len(x_train[0])\n",
        "hidden_nodes_layer1 =  100\n",
        "hidden_nodes_layer2 = 30\n",
        "hidden_nodes_layer3 = 10\n",
        "\n",
        "nn = tf.keras.models.Sequential()\n",
        "\n",
        "# First hidden layer\n",
        "nn.add(\n",
        "    tf.keras.layers.Dense(units=hidden_nodes_layer1, input_dim=number_input_features, activation=\"relu\")\n",
        ")\n",
        "\n",
        "# Second hidden layer\n",
        "nn.add(tf.keras.layers.Dense(units=hidden_nodes_layer2, activation=\"sigmoid\"))\n",
        "\n",
        "# Third hidden layer\n",
        "nn.add(tf.keras.layers.Dense(units=hidden_nodes_layer3, activation=\"sigmoid\"))\n",
        "\n",
        "# Output layer\n",
        "nn.add(tf.keras.layers.Dense(units=1, activation=\"sigmoid\"))\n",
        "\n",
        "# Check the structure of the model\n",
        "nn.summary()"
      ]
    },
    {
      "cell_type": "code",
      "execution_count": 20,
      "metadata": {
        "id": "fgDLjc1PhRM1"
      },
      "outputs": [],
      "source": [
        "# Compile the model\n",
        "nn.compile(loss='binary_crossentropy', optimizer='adam', metrics=['accuracy'])"
      ]
    },
    {
      "cell_type": "code",
      "execution_count": 21,
      "metadata": {
        "colab": {
          "base_uri": "https://localhost:8080/"
        },
        "id": "sNkzxjPdhWWJ",
        "outputId": "c665024c-fb27-4e83-dc01-fba19352d2c6"
      },
      "outputs": [
        {
          "name": "stdout",
          "output_type": "stream",
          "text": [
            "Epoch 1/200\n",
            "804/804 [==============================] - 4s 3ms/step - loss: 0.5020 - accuracy: 0.7640\n",
            "Epoch 2/200\n",
            "804/804 [==============================] - 2s 3ms/step - loss: 0.4462 - accuracy: 0.7933\n",
            "Epoch 3/200\n",
            "804/804 [==============================] - 2s 2ms/step - loss: 0.4380 - accuracy: 0.7951\n",
            "Epoch 4/200\n",
            "804/804 [==============================] - 2s 2ms/step - loss: 0.4331 - accuracy: 0.7951\n",
            "Epoch 5/200\n",
            "804/804 [==============================] - 2s 2ms/step - loss: 0.4300 - accuracy: 0.7965\n",
            "Epoch 6/200\n",
            "804/804 [==============================] - 2s 2ms/step - loss: 0.4278 - accuracy: 0.7965\n",
            "Epoch 7/200\n",
            "804/804 [==============================] - 2s 2ms/step - loss: 0.4263 - accuracy: 0.7979\n",
            "Epoch 8/200\n",
            "804/804 [==============================] - 2s 2ms/step - loss: 0.4246 - accuracy: 0.7984\n",
            "Epoch 9/200\n",
            "804/804 [==============================] - 2s 2ms/step - loss: 0.4237 - accuracy: 0.7979\n",
            "Epoch 10/200\n",
            "804/804 [==============================] - 2s 2ms/step - loss: 0.4228 - accuracy: 0.7992\n",
            "Epoch 11/200\n",
            "804/804 [==============================] - 2s 2ms/step - loss: 0.4214 - accuracy: 0.7985\n",
            "Epoch 12/200\n",
            "804/804 [==============================] - 2s 2ms/step - loss: 0.4205 - accuracy: 0.7991\n",
            "Epoch 13/200\n",
            "804/804 [==============================] - 2s 3ms/step - loss: 0.4202 - accuracy: 0.7990\n",
            "Epoch 14/200\n",
            "804/804 [==============================] - 2s 2ms/step - loss: 0.4197 - accuracy: 0.7997\n",
            "Epoch 15/200\n",
            "804/804 [==============================] - 2s 2ms/step - loss: 0.4188 - accuracy: 0.8001\n",
            "Epoch 16/200\n",
            "804/804 [==============================] - 2s 2ms/step - loss: 0.4183 - accuracy: 0.8001\n",
            "Epoch 17/200\n",
            "804/804 [==============================] - 2s 2ms/step - loss: 0.4180 - accuracy: 0.8007\n",
            "Epoch 18/200\n",
            "804/804 [==============================] - 2s 2ms/step - loss: 0.4171 - accuracy: 0.8006\n",
            "Epoch 19/200\n",
            "804/804 [==============================] - 2s 2ms/step - loss: 0.4167 - accuracy: 0.8007\n",
            "Epoch 20/200\n",
            "804/804 [==============================] - 2s 2ms/step - loss: 0.4156 - accuracy: 0.8029\n",
            "Epoch 21/200\n",
            "804/804 [==============================] - 2s 2ms/step - loss: 0.4153 - accuracy: 0.8009\n",
            "Epoch 22/200\n",
            "804/804 [==============================] - 2s 2ms/step - loss: 0.4147 - accuracy: 0.8018\n",
            "Epoch 23/200\n",
            "804/804 [==============================] - 2s 2ms/step - loss: 0.4148 - accuracy: 0.8014\n",
            "Epoch 24/200\n",
            "804/804 [==============================] - 2s 2ms/step - loss: 0.4136 - accuracy: 0.8021\n",
            "Epoch 25/200\n",
            "804/804 [==============================] - 2s 2ms/step - loss: 0.4137 - accuracy: 0.8018\n",
            "Epoch 26/200\n",
            "804/804 [==============================] - 2s 2ms/step - loss: 0.4128 - accuracy: 0.8021\n",
            "Epoch 27/200\n",
            "804/804 [==============================] - 2s 2ms/step - loss: 0.4127 - accuracy: 0.8030\n",
            "Epoch 28/200\n",
            "804/804 [==============================] - 2s 2ms/step - loss: 0.4118 - accuracy: 0.8033\n",
            "Epoch 29/200\n",
            "804/804 [==============================] - 2s 2ms/step - loss: 0.4121 - accuracy: 0.8021\n",
            "Epoch 30/200\n",
            "804/804 [==============================] - 2s 2ms/step - loss: 0.4116 - accuracy: 0.8037\n",
            "Epoch 31/200\n",
            "804/804 [==============================] - 2s 2ms/step - loss: 0.4116 - accuracy: 0.8024\n",
            "Epoch 32/200\n",
            "804/804 [==============================] - 2s 3ms/step - loss: 0.4108 - accuracy: 0.8039\n",
            "Epoch 33/200\n",
            "804/804 [==============================] - 2s 3ms/step - loss: 0.4106 - accuracy: 0.8039\n",
            "Epoch 34/200\n",
            "804/804 [==============================] - 3s 3ms/step - loss: 0.4100 - accuracy: 0.8040\n",
            "Epoch 35/200\n",
            "804/804 [==============================] - 3s 3ms/step - loss: 0.4101 - accuracy: 0.8042\n",
            "Epoch 36/200\n",
            "804/804 [==============================] - 3s 3ms/step - loss: 0.4095 - accuracy: 0.8032\n",
            "Epoch 37/200\n",
            "804/804 [==============================] - 3s 4ms/step - loss: 0.4092 - accuracy: 0.8041\n",
            "Epoch 38/200\n",
            "804/804 [==============================] - 3s 3ms/step - loss: 0.4090 - accuracy: 0.8050\n",
            "Epoch 39/200\n",
            "804/804 [==============================] - 3s 3ms/step - loss: 0.4091 - accuracy: 0.8042\n",
            "Epoch 40/200\n",
            "804/804 [==============================] - 2s 3ms/step - loss: 0.4089 - accuracy: 0.8041\n",
            "Epoch 41/200\n",
            "804/804 [==============================] - 2s 2ms/step - loss: 0.4089 - accuracy: 0.8048\n",
            "Epoch 42/200\n",
            "804/804 [==============================] - 2s 3ms/step - loss: 0.4083 - accuracy: 0.8052\n",
            "Epoch 43/200\n",
            "804/804 [==============================] - 2s 2ms/step - loss: 0.4081 - accuracy: 0.8042\n",
            "Epoch 44/200\n",
            "804/804 [==============================] - 2s 3ms/step - loss: 0.4081 - accuracy: 0.8044\n",
            "Epoch 45/200\n",
            "804/804 [==============================] - 2s 3ms/step - loss: 0.4078 - accuracy: 0.8049\n",
            "Epoch 46/200\n",
            "804/804 [==============================] - 2s 2ms/step - loss: 0.4075 - accuracy: 0.8045\n",
            "Epoch 47/200\n",
            "804/804 [==============================] - 2s 3ms/step - loss: 0.4076 - accuracy: 0.8049\n",
            "Epoch 48/200\n",
            "804/804 [==============================] - 2s 3ms/step - loss: 0.4073 - accuracy: 0.8047\n",
            "Epoch 49/200\n",
            "804/804 [==============================] - 2s 2ms/step - loss: 0.4071 - accuracy: 0.8050\n",
            "Epoch 50/200\n",
            "804/804 [==============================] - 2s 2ms/step - loss: 0.4069 - accuracy: 0.8052\n",
            "Epoch 51/200\n",
            "804/804 [==============================] - 2s 3ms/step - loss: 0.4070 - accuracy: 0.8047\n",
            "Epoch 52/200\n",
            "804/804 [==============================] - 3s 3ms/step - loss: 0.4069 - accuracy: 0.8046\n",
            "Epoch 53/200\n",
            "804/804 [==============================] - 2s 3ms/step - loss: 0.4067 - accuracy: 0.8053\n",
            "Epoch 54/200\n",
            "804/804 [==============================] - 2s 3ms/step - loss: 0.4063 - accuracy: 0.8053\n",
            "Epoch 55/200\n",
            "804/804 [==============================] - 2s 3ms/step - loss: 0.4065 - accuracy: 0.8049\n",
            "Epoch 56/200\n",
            "804/804 [==============================] - 2s 3ms/step - loss: 0.4062 - accuracy: 0.8051\n",
            "Epoch 57/200\n",
            "804/804 [==============================] - 2s 3ms/step - loss: 0.4061 - accuracy: 0.8050\n",
            "Epoch 58/200\n",
            "804/804 [==============================] - 2s 3ms/step - loss: 0.4066 - accuracy: 0.8048\n",
            "Epoch 59/200\n",
            "804/804 [==============================] - 2s 3ms/step - loss: 0.4061 - accuracy: 0.8059\n",
            "Epoch 60/200\n",
            "804/804 [==============================] - 2s 3ms/step - loss: 0.4061 - accuracy: 0.8057\n",
            "Epoch 61/200\n",
            "804/804 [==============================] - 2s 3ms/step - loss: 0.4057 - accuracy: 0.8055\n",
            "Epoch 62/200\n",
            "804/804 [==============================] - 2s 2ms/step - loss: 0.4053 - accuracy: 0.8049\n",
            "Epoch 63/200\n",
            "804/804 [==============================] - 2s 2ms/step - loss: 0.4052 - accuracy: 0.8061\n",
            "Epoch 64/200\n",
            "804/804 [==============================] - 2s 2ms/step - loss: 0.4055 - accuracy: 0.8054\n",
            "Epoch 65/200\n",
            "804/804 [==============================] - 2s 2ms/step - loss: 0.4054 - accuracy: 0.8054\n",
            "Epoch 66/200\n",
            "804/804 [==============================] - 2s 3ms/step - loss: 0.4054 - accuracy: 0.8050\n",
            "Epoch 67/200\n",
            "804/804 [==============================] - 2s 2ms/step - loss: 0.4052 - accuracy: 0.8059\n",
            "Epoch 68/200\n",
            "804/804 [==============================] - 2s 2ms/step - loss: 0.4053 - accuracy: 0.8056\n",
            "Epoch 69/200\n",
            "804/804 [==============================] - 2s 2ms/step - loss: 0.4051 - accuracy: 0.8064\n",
            "Epoch 70/200\n",
            "804/804 [==============================] - 2s 2ms/step - loss: 0.4048 - accuracy: 0.8061\n",
            "Epoch 71/200\n",
            "804/804 [==============================] - 2s 2ms/step - loss: 0.4050 - accuracy: 0.8058\n",
            "Epoch 72/200\n",
            "804/804 [==============================] - 2s 2ms/step - loss: 0.4049 - accuracy: 0.8068\n",
            "Epoch 73/200\n",
            "804/804 [==============================] - 2s 2ms/step - loss: 0.4051 - accuracy: 0.8059\n",
            "Epoch 74/200\n",
            "804/804 [==============================] - 2s 2ms/step - loss: 0.4050 - accuracy: 0.8064\n",
            "Epoch 75/200\n",
            "804/804 [==============================] - 2s 2ms/step - loss: 0.4045 - accuracy: 0.8066\n",
            "Epoch 76/200\n",
            "804/804 [==============================] - 2s 2ms/step - loss: 0.4048 - accuracy: 0.8066\n",
            "Epoch 77/200\n",
            "804/804 [==============================] - 2s 2ms/step - loss: 0.4043 - accuracy: 0.8059\n",
            "Epoch 78/200\n",
            "804/804 [==============================] - 2s 2ms/step - loss: 0.4047 - accuracy: 0.8059\n",
            "Epoch 79/200\n",
            "804/804 [==============================] - 2s 2ms/step - loss: 0.4043 - accuracy: 0.8063\n",
            "Epoch 80/200\n",
            "804/804 [==============================] - 2s 2ms/step - loss: 0.4042 - accuracy: 0.8056\n",
            "Epoch 81/200\n",
            "804/804 [==============================] - 2s 2ms/step - loss: 0.4044 - accuracy: 0.8064\n",
            "Epoch 82/200\n",
            "804/804 [==============================] - 2s 2ms/step - loss: 0.4042 - accuracy: 0.8066\n",
            "Epoch 83/200\n",
            "804/804 [==============================] - 2s 2ms/step - loss: 0.4040 - accuracy: 0.8066\n",
            "Epoch 84/200\n",
            "804/804 [==============================] - 2s 2ms/step - loss: 0.4046 - accuracy: 0.8056\n",
            "Epoch 85/200\n",
            "804/804 [==============================] - 2s 2ms/step - loss: 0.4038 - accuracy: 0.8066\n",
            "Epoch 86/200\n",
            "804/804 [==============================] - 2s 2ms/step - loss: 0.4040 - accuracy: 0.8062\n",
            "Epoch 87/200\n",
            "804/804 [==============================] - 2s 2ms/step - loss: 0.4043 - accuracy: 0.8065\n",
            "Epoch 88/200\n",
            "804/804 [==============================] - 2s 2ms/step - loss: 0.4038 - accuracy: 0.8063\n",
            "Epoch 89/200\n",
            "804/804 [==============================] - 2s 2ms/step - loss: 0.4044 - accuracy: 0.8064\n",
            "Epoch 90/200\n",
            "804/804 [==============================] - 2s 2ms/step - loss: 0.4037 - accuracy: 0.8068\n",
            "Epoch 91/200\n",
            "804/804 [==============================] - 1s 2ms/step - loss: 0.4039 - accuracy: 0.8060\n",
            "Epoch 92/200\n",
            "804/804 [==============================] - 2s 2ms/step - loss: 0.4043 - accuracy: 0.8063\n",
            "Epoch 93/200\n",
            "804/804 [==============================] - 1s 2ms/step - loss: 0.4048 - accuracy: 0.8063\n",
            "Epoch 94/200\n",
            "804/804 [==============================] - 1s 2ms/step - loss: 0.4041 - accuracy: 0.8070\n",
            "Epoch 95/200\n",
            "804/804 [==============================] - 1s 2ms/step - loss: 0.4038 - accuracy: 0.8066\n",
            "Epoch 96/200\n",
            "804/804 [==============================] - 1s 2ms/step - loss: 0.4039 - accuracy: 0.8057\n",
            "Epoch 97/200\n",
            "804/804 [==============================] - 1s 2ms/step - loss: 0.4034 - accuracy: 0.8075\n",
            "Epoch 98/200\n",
            "804/804 [==============================] - 1s 2ms/step - loss: 0.4034 - accuracy: 0.8067\n",
            "Epoch 99/200\n",
            "804/804 [==============================] - 2s 2ms/step - loss: 0.4036 - accuracy: 0.8075\n",
            "Epoch 100/200\n",
            "804/804 [==============================] - 2s 2ms/step - loss: 0.4036 - accuracy: 0.8060\n",
            "Epoch 101/200\n",
            "804/804 [==============================] - 1s 2ms/step - loss: 0.4038 - accuracy: 0.8078\n",
            "Epoch 102/200\n",
            "804/804 [==============================] - 2s 2ms/step - loss: 0.4037 - accuracy: 0.8070\n",
            "Epoch 103/200\n",
            "804/804 [==============================] - 2s 2ms/step - loss: 0.4034 - accuracy: 0.8073\n",
            "Epoch 104/200\n",
            "804/804 [==============================] - 2s 2ms/step - loss: 0.4032 - accuracy: 0.8068\n",
            "Epoch 105/200\n",
            "804/804 [==============================] - 2s 2ms/step - loss: 0.4040 - accuracy: 0.8075\n",
            "Epoch 106/200\n",
            "804/804 [==============================] - 2s 2ms/step - loss: 0.4034 - accuracy: 0.8070\n",
            "Epoch 107/200\n",
            "804/804 [==============================] - 1s 2ms/step - loss: 0.4034 - accuracy: 0.8070\n",
            "Epoch 108/200\n",
            "804/804 [==============================] - 1s 2ms/step - loss: 0.4037 - accuracy: 0.8074\n",
            "Epoch 109/200\n",
            "804/804 [==============================] - 1s 2ms/step - loss: 0.4029 - accuracy: 0.8063\n",
            "Epoch 110/200\n",
            "804/804 [==============================] - 1s 2ms/step - loss: 0.4031 - accuracy: 0.8076\n",
            "Epoch 111/200\n",
            "804/804 [==============================] - 1s 2ms/step - loss: 0.4039 - accuracy: 0.8070\n",
            "Epoch 112/200\n",
            "804/804 [==============================] - 1s 2ms/step - loss: 0.4043 - accuracy: 0.8058\n",
            "Epoch 113/200\n",
            "804/804 [==============================] - 1s 2ms/step - loss: 0.4040 - accuracy: 0.8073\n",
            "Epoch 114/200\n",
            "804/804 [==============================] - 1s 2ms/step - loss: 0.4035 - accuracy: 0.8076\n",
            "Epoch 115/200\n",
            "804/804 [==============================] - 2s 2ms/step - loss: 0.4039 - accuracy: 0.8069\n",
            "Epoch 116/200\n",
            "804/804 [==============================] - 2s 2ms/step - loss: 0.4036 - accuracy: 0.8075\n",
            "Epoch 117/200\n",
            "804/804 [==============================] - 2s 2ms/step - loss: 0.4033 - accuracy: 0.8077\n",
            "Epoch 118/200\n",
            "804/804 [==============================] - 2s 2ms/step - loss: 0.4034 - accuracy: 0.8071\n",
            "Epoch 119/200\n",
            "804/804 [==============================] - 2s 2ms/step - loss: 0.4033 - accuracy: 0.8070\n",
            "Epoch 120/200\n",
            "804/804 [==============================] - 1s 2ms/step - loss: 0.4041 - accuracy: 0.8066\n",
            "Epoch 121/200\n",
            "804/804 [==============================] - 2s 2ms/step - loss: 0.4041 - accuracy: 0.8074\n",
            "Epoch 122/200\n",
            "804/804 [==============================] - 2s 2ms/step - loss: 0.4032 - accuracy: 0.8067\n",
            "Epoch 123/200\n",
            "804/804 [==============================] - 2s 2ms/step - loss: 0.4034 - accuracy: 0.8072\n",
            "Epoch 124/200\n",
            "804/804 [==============================] - 2s 2ms/step - loss: 0.4037 - accuracy: 0.8064\n",
            "Epoch 125/200\n",
            "804/804 [==============================] - 1s 2ms/step - loss: 0.4037 - accuracy: 0.8063\n",
            "Epoch 126/200\n",
            "804/804 [==============================] - 2s 2ms/step - loss: 0.4036 - accuracy: 0.8076\n",
            "Epoch 127/200\n",
            "804/804 [==============================] - 2s 2ms/step - loss: 0.4033 - accuracy: 0.8073\n",
            "Epoch 128/200\n",
            "804/804 [==============================] - 2s 2ms/step - loss: 0.4031 - accuracy: 0.8078\n",
            "Epoch 129/200\n",
            "804/804 [==============================] - 2s 2ms/step - loss: 0.4030 - accuracy: 0.8075\n",
            "Epoch 130/200\n",
            "804/804 [==============================] - 2s 2ms/step - loss: 0.4034 - accuracy: 0.8069\n",
            "Epoch 131/200\n",
            "804/804 [==============================] - 2s 2ms/step - loss: 0.4034 - accuracy: 0.8071\n",
            "Epoch 132/200\n",
            "804/804 [==============================] - 2s 2ms/step - loss: 0.4030 - accuracy: 0.8071\n",
            "Epoch 133/200\n",
            "804/804 [==============================] - 2s 2ms/step - loss: 0.4030 - accuracy: 0.8077\n",
            "Epoch 134/200\n",
            "804/804 [==============================] - 2s 2ms/step - loss: 0.4033 - accuracy: 0.8072\n",
            "Epoch 135/200\n",
            "804/804 [==============================] - 2s 2ms/step - loss: 0.4027 - accuracy: 0.8081\n",
            "Epoch 136/200\n",
            "804/804 [==============================] - 2s 2ms/step - loss: 0.4029 - accuracy: 0.8077\n",
            "Epoch 137/200\n",
            "804/804 [==============================] - 1s 2ms/step - loss: 0.4035 - accuracy: 0.8073\n",
            "Epoch 138/200\n",
            "804/804 [==============================] - 1s 2ms/step - loss: 0.4031 - accuracy: 0.8071\n",
            "Epoch 139/200\n",
            "804/804 [==============================] - 2s 2ms/step - loss: 0.4028 - accuracy: 0.8075\n",
            "Epoch 140/200\n",
            "804/804 [==============================] - 2s 2ms/step - loss: 0.4031 - accuracy: 0.8074\n",
            "Epoch 141/200\n",
            "804/804 [==============================] - 1s 2ms/step - loss: 0.4029 - accuracy: 0.8074\n",
            "Epoch 142/200\n",
            "804/804 [==============================] - 1s 2ms/step - loss: 0.4031 - accuracy: 0.8065\n",
            "Epoch 143/200\n",
            "804/804 [==============================] - 1s 2ms/step - loss: 0.4031 - accuracy: 0.8067\n",
            "Epoch 144/200\n",
            "804/804 [==============================] - 2s 2ms/step - loss: 0.4027 - accuracy: 0.8077\n",
            "Epoch 145/200\n",
            "804/804 [==============================] - 1s 2ms/step - loss: 0.4030 - accuracy: 0.8076\n",
            "Epoch 146/200\n",
            "804/804 [==============================] - 1s 2ms/step - loss: 0.4024 - accuracy: 0.8080\n",
            "Epoch 147/200\n",
            "804/804 [==============================] - 1s 2ms/step - loss: 0.4029 - accuracy: 0.8075\n",
            "Epoch 148/200\n",
            "804/804 [==============================] - 2s 2ms/step - loss: 0.4035 - accuracy: 0.8064\n",
            "Epoch 149/200\n",
            "804/804 [==============================] - 2s 2ms/step - loss: 0.4035 - accuracy: 0.8058\n",
            "Epoch 150/200\n",
            "804/804 [==============================] - 2s 2ms/step - loss: 0.4034 - accuracy: 0.8068\n",
            "Epoch 151/200\n",
            "804/804 [==============================] - 1s 2ms/step - loss: 0.4028 - accuracy: 0.8072\n",
            "Epoch 152/200\n",
            "804/804 [==============================] - 2s 2ms/step - loss: 0.4029 - accuracy: 0.8076\n",
            "Epoch 153/200\n",
            "804/804 [==============================] - 2s 2ms/step - loss: 0.4028 - accuracy: 0.8073\n",
            "Epoch 154/200\n",
            "804/804 [==============================] - 2s 2ms/step - loss: 0.4027 - accuracy: 0.8078\n",
            "Epoch 155/200\n",
            "804/804 [==============================] - 2s 2ms/step - loss: 0.4027 - accuracy: 0.8073\n",
            "Epoch 156/200\n",
            "804/804 [==============================] - 1s 2ms/step - loss: 0.4023 - accuracy: 0.8075\n",
            "Epoch 157/200\n",
            "804/804 [==============================] - 1s 2ms/step - loss: 0.4026 - accuracy: 0.8071\n",
            "Epoch 158/200\n",
            "804/804 [==============================] - 1s 2ms/step - loss: 0.4030 - accuracy: 0.8072\n",
            "Epoch 159/200\n",
            "804/804 [==============================] - 1s 2ms/step - loss: 0.4025 - accuracy: 0.8075\n",
            "Epoch 160/200\n",
            "804/804 [==============================] - 2s 2ms/step - loss: 0.4029 - accuracy: 0.8069\n",
            "Epoch 161/200\n",
            "804/804 [==============================] - 2s 2ms/step - loss: 0.4027 - accuracy: 0.8077\n",
            "Epoch 162/200\n",
            "804/804 [==============================] - 2s 2ms/step - loss: 0.4023 - accuracy: 0.8082\n",
            "Epoch 163/200\n",
            "804/804 [==============================] - 2s 2ms/step - loss: 0.4021 - accuracy: 0.8080\n",
            "Epoch 164/200\n",
            "804/804 [==============================] - 1s 2ms/step - loss: 0.4023 - accuracy: 0.8082\n",
            "Epoch 165/200\n",
            "804/804 [==============================] - 2s 2ms/step - loss: 0.4031 - accuracy: 0.8078\n",
            "Epoch 166/200\n",
            "804/804 [==============================] - 2s 2ms/step - loss: 0.4033 - accuracy: 0.8061\n",
            "Epoch 167/200\n",
            "804/804 [==============================] - 1s 2ms/step - loss: 0.4025 - accuracy: 0.8068\n",
            "Epoch 168/200\n",
            "804/804 [==============================] - 2s 2ms/step - loss: 0.4024 - accuracy: 0.8081\n",
            "Epoch 169/200\n",
            "804/804 [==============================] - 2s 2ms/step - loss: 0.4037 - accuracy: 0.8070\n",
            "Epoch 170/200\n",
            "804/804 [==============================] - 2s 2ms/step - loss: 0.4030 - accuracy: 0.8070\n",
            "Epoch 171/200\n",
            "804/804 [==============================] - 2s 2ms/step - loss: 0.4029 - accuracy: 0.8069\n",
            "Epoch 172/200\n",
            "804/804 [==============================] - 2s 2ms/step - loss: 0.4033 - accuracy: 0.8075\n",
            "Epoch 173/200\n",
            "804/804 [==============================] - 2s 2ms/step - loss: 0.4034 - accuracy: 0.8078\n",
            "Epoch 174/200\n",
            "804/804 [==============================] - 2s 2ms/step - loss: 0.4028 - accuracy: 0.8078\n",
            "Epoch 175/200\n",
            "804/804 [==============================] - 2s 2ms/step - loss: 0.4028 - accuracy: 0.8074\n",
            "Epoch 176/200\n",
            "804/804 [==============================] - 2s 2ms/step - loss: 0.4025 - accuracy: 0.8082\n",
            "Epoch 177/200\n",
            "804/804 [==============================] - 2s 2ms/step - loss: 0.4030 - accuracy: 0.8071\n",
            "Epoch 178/200\n",
            "804/804 [==============================] - 2s 2ms/step - loss: 0.4030 - accuracy: 0.8073\n",
            "Epoch 179/200\n",
            "804/804 [==============================] - 2s 2ms/step - loss: 0.4031 - accuracy: 0.8082\n",
            "Epoch 180/200\n",
            "804/804 [==============================] - 2s 2ms/step - loss: 0.4031 - accuracy: 0.8079\n",
            "Epoch 181/200\n",
            "804/804 [==============================] - 1s 2ms/step - loss: 0.4029 - accuracy: 0.8074\n",
            "Epoch 182/200\n",
            "804/804 [==============================] - 1s 2ms/step - loss: 0.4029 - accuracy: 0.8080\n",
            "Epoch 183/200\n",
            "804/804 [==============================] - 1s 2ms/step - loss: 0.4032 - accuracy: 0.8080\n",
            "Epoch 184/200\n",
            "804/804 [==============================] - 1s 2ms/step - loss: 0.4029 - accuracy: 0.8075\n",
            "Epoch 185/200\n",
            "804/804 [==============================] - 1s 2ms/step - loss: 0.4032 - accuracy: 0.8076\n",
            "Epoch 186/200\n",
            "804/804 [==============================] - 1s 2ms/step - loss: 0.4032 - accuracy: 0.8081\n",
            "Epoch 187/200\n",
            "804/804 [==============================] - 1s 2ms/step - loss: 0.4028 - accuracy: 0.8082\n",
            "Epoch 188/200\n",
            "804/804 [==============================] - 2s 2ms/step - loss: 0.4032 - accuracy: 0.8075\n",
            "Epoch 189/200\n",
            "804/804 [==============================] - 2s 2ms/step - loss: 0.4032 - accuracy: 0.8072\n",
            "Epoch 190/200\n",
            "804/804 [==============================] - 1s 2ms/step - loss: 0.4031 - accuracy: 0.8076\n",
            "Epoch 191/200\n",
            "804/804 [==============================] - 2s 2ms/step - loss: 0.4034 - accuracy: 0.8062\n",
            "Epoch 192/200\n",
            "804/804 [==============================] - 1s 2ms/step - loss: 0.4039 - accuracy: 0.8081\n",
            "Epoch 193/200\n",
            "804/804 [==============================] - 1s 2ms/step - loss: 0.4036 - accuracy: 0.8081\n",
            "Epoch 194/200\n",
            "804/804 [==============================] - 1s 2ms/step - loss: 0.4037 - accuracy: 0.8075\n",
            "Epoch 195/200\n",
            "804/804 [==============================] - 1s 2ms/step - loss: 0.4031 - accuracy: 0.8069\n",
            "Epoch 196/200\n",
            "804/804 [==============================] - 2s 2ms/step - loss: 0.4029 - accuracy: 0.8075\n",
            "Epoch 197/200\n",
            "804/804 [==============================] - 1s 2ms/step - loss: 0.4030 - accuracy: 0.8073\n",
            "Epoch 198/200\n",
            "804/804 [==============================] - 1s 2ms/step - loss: 0.4033 - accuracy: 0.8075\n",
            "Epoch 199/200\n",
            "804/804 [==============================] - 2s 2ms/step - loss: 0.4034 - accuracy: 0.8080\n",
            "Epoch 200/200\n",
            "804/804 [==============================] - 2s 2ms/step - loss: 0.4036 - accuracy: 0.8079\n"
          ]
        }
      ],
      "source": [
        "# Train the model\n",
        "fit_model = nn.fit(x_train_scaled, y_train, epochs=200)"
      ]
    },
    {
      "cell_type": "code",
      "execution_count": 22,
      "metadata": {
        "colab": {
          "base_uri": "https://localhost:8080/"
        },
        "id": "0LsGjF28hbG-",
        "outputId": "0ebe7b25-f55d-4e10-fc71-b966d3ddcf6b"
      },
      "outputs": [
        {
          "name": "stdout",
          "output_type": "stream",
          "text": [
            "268/268 - 1s - loss: 0.4460 - accuracy: 0.7937 - 519ms/epoch - 2ms/step\n",
            "Loss: 0.4460098147392273, Accuracy: 0.7937026023864746\n"
          ]
        }
      ],
      "source": [
        "# Evaluate the model using the test data\n",
        "model_loss, model_accuracy = nn.evaluate(x_test_scaled,y_test,verbose=2)\n",
        "print(f\"Loss: {model_loss}, Accuracy: {model_accuracy}\")"
      ]
    },
    {
      "cell_type": "code",
      "execution_count": 23,
      "metadata": {
        "id": "vCvv_5jhhgNC"
      },
      "outputs": [
        {
          "name": "stderr",
          "output_type": "stream",
          "text": [
            "c:\\Users\\uwagb\\anaconda3\\lib\\site-packages\\keras\\src\\engine\\training.py:3000: UserWarning: You are saving your model as an HDF5 file via `model.save()`. This file format is considered legacy. We recommend using instead the native Keras format, e.g. `model.save('my_model.keras')`.\n",
            "  saving_api.save_model(\n"
          ]
        }
      ],
      "source": [
        "# Export our model to HDF5 file\n",
        "nn.save(\"AlphabetSoupCharity_Optimization.h5\")"
      ]
    },
    {
      "cell_type": "markdown",
      "metadata": {
        "id": "m5jSjFvLk1-q"
      },
      "source": [
        "USE A RANDOM FOREST CLASSIFIER ON THE DATASET"
      ]
    },
    {
      "cell_type": "code",
      "execution_count": 24,
      "metadata": {
        "colab": {
          "base_uri": "https://localhost:8080/"
        },
        "id": "BhW_6YaOiFUb",
        "outputId": "2ab437fd-71b7-4792-de18-1f3de0441872"
      },
      "outputs": [
        {
          "name": "stdout",
          "output_type": "stream",
          "text": [
            "Random Forest accuracy: 77.96\n"
          ]
        }
      ],
      "source": [
        "# Create a random forest classifier.\n",
        "rfc = RandomForestClassifier(n_estimators=128, random_state=78)\n",
        "\n",
        "# Fitting the model\n",
        "rfc = rfc.fit(x_train_scaled, y_train)\n",
        "\n",
        "# Evaluate the model\n",
        "y_predicted = rfc.predict(x_test_scaled)\n",
        "print(f'Random Forest accuracy: {accuracy_score(y_test, y_predicted)*100:.2f}')"
      ]
    },
    {
      "cell_type": "code",
      "execution_count": null,
      "metadata": {
        "id": "J9PjyffowmM4"
      },
      "outputs": [],
      "source": []
    }
  ],
  "metadata": {
    "colab": {
      "collapsed_sections": [],
      "name": "Step_3_and_4.ipynb",
      "provenance": []
    },
    "kernelspec": {
      "display_name": "Python 3",
      "language": "python",
      "name": "python3"
    },
    "language_info": {
      "codemirror_mode": {
        "name": "ipython",
        "version": 3
      },
      "file_extension": ".py",
      "mimetype": "text/x-python",
      "name": "python",
      "nbconvert_exporter": "python",
      "pygments_lexer": "ipython3",
      "version": "3.10.9"
    }
  },
  "nbformat": 4,
  "nbformat_minor": 0
}
